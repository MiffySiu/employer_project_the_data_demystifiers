{
 "cells": [
  {
   "cell_type": "markdown",
   "id": "51a52a18",
   "metadata": {},
   "source": [
    "## Hypothesis: Representation of female in workforce is correlated to that of higher educaation"
   ]
  },
  {
   "cell_type": "markdown",
   "id": "7d3bc57f",
   "metadata": {},
   "source": [
    "### 1. Prepare the workstation"
   ]
  },
  {
   "cell_type": "code",
   "execution_count": 1,
   "id": "6079e16e",
   "metadata": {},
   "outputs": [],
   "source": [
    "#import all the necessary packages for simple linear regression model\n",
    "import numpy as np\n",
    "import pandas as pd\n",
    "import matplotlib.pyplot as plt\n",
    "import statsmodels.api as sm\n",
    "import sklearn\n",
    "\n",
    "from sklearn import datasets \n",
    "from sklearn import linear_model\n",
    "from sklearn.model_selection import train_test_split\n",
    "from sklearn import metrics\n",
    "from sklearn.linear_model import LinearRegression"
   ]
  },
  {
   "cell_type": "code",
   "execution_count": 2,
   "id": "398cbb3f",
   "metadata": {
    "scrolled": false
   },
   "outputs": [
    {
     "data": {
      "text/html": [
       "<div>\n",
       "<style scoped>\n",
       "    .dataframe tbody tr th:only-of-type {\n",
       "        vertical-align: middle;\n",
       "    }\n",
       "\n",
       "    .dataframe tbody tr th {\n",
       "        vertical-align: top;\n",
       "    }\n",
       "\n",
       "    .dataframe thead th {\n",
       "        text-align: right;\n",
       "    }\n",
       "</style>\n",
       "<table border=\"1\" class=\"dataframe\">\n",
       "  <thead>\n",
       "    <tr style=\"text-align: right;\">\n",
       "      <th></th>\n",
       "      <th>Year</th>\n",
       "      <th>Workforce female</th>\n",
       "      <th>Workforce male</th>\n",
       "      <th>Workforce total</th>\n",
       "      <th>Student female</th>\n",
       "      <th>Student male</th>\n",
       "      <th>Student other</th>\n",
       "      <th>Student total</th>\n",
       "      <th>Postgrad female</th>\n",
       "      <th>Postgrad male</th>\n",
       "      <th>Postgrad other</th>\n",
       "      <th>Postgrad total</th>\n",
       "      <th>Undergrad female</th>\n",
       "      <th>Undergrad male</th>\n",
       "      <th>Undergrad other</th>\n",
       "      <th>Undergrad tota</th>\n",
       "    </tr>\n",
       "  </thead>\n",
       "  <tbody>\n",
       "    <tr>\n",
       "      <th>0</th>\n",
       "      <td>2014/15</td>\n",
       "      <td>447300</td>\n",
       "      <td>1927400</td>\n",
       "      <td>2374500</td>\n",
       "      <td>224805</td>\n",
       "      <td>377180</td>\n",
       "      <td>NaN</td>\n",
       "      <td>NaN</td>\n",
       "      <td>NaN</td>\n",
       "      <td>NaN</td>\n",
       "      <td>NaN</td>\n",
       "      <td>NaN</td>\n",
       "      <td>NaN</td>\n",
       "      <td>NaN</td>\n",
       "      <td>NaN</td>\n",
       "      <td>NaN</td>\n",
       "    </tr>\n",
       "    <tr>\n",
       "      <th>1</th>\n",
       "      <td>2015/16</td>\n",
       "      <td>435600</td>\n",
       "      <td>1982100</td>\n",
       "      <td>2417900</td>\n",
       "      <td>232880</td>\n",
       "      <td>381690</td>\n",
       "      <td>NaN</td>\n",
       "      <td>NaN</td>\n",
       "      <td>NaN</td>\n",
       "      <td>NaN</td>\n",
       "      <td>NaN</td>\n",
       "      <td>NaN</td>\n",
       "      <td>NaN</td>\n",
       "      <td>NaN</td>\n",
       "      <td>NaN</td>\n",
       "      <td>NaN</td>\n",
       "    </tr>\n",
       "    <tr>\n",
       "      <th>2</th>\n",
       "      <td>2016/17</td>\n",
       "      <td>472300</td>\n",
       "      <td>2037500</td>\n",
       "      <td>2510000</td>\n",
       "      <td>244465</td>\n",
       "      <td>387030</td>\n",
       "      <td>NaN</td>\n",
       "      <td>NaN</td>\n",
       "      <td>NaN</td>\n",
       "      <td>NaN</td>\n",
       "      <td>NaN</td>\n",
       "      <td>NaN</td>\n",
       "      <td>NaN</td>\n",
       "      <td>NaN</td>\n",
       "      <td>NaN</td>\n",
       "      <td>NaN</td>\n",
       "    </tr>\n",
       "    <tr>\n",
       "      <th>3</th>\n",
       "      <td>2017/18</td>\n",
       "      <td>503900</td>\n",
       "      <td>2050700</td>\n",
       "      <td>2554600</td>\n",
       "      <td>255925</td>\n",
       "      <td>390165</td>\n",
       "      <td>400.0</td>\n",
       "      <td>646490.0</td>\n",
       "      <td>56070.0</td>\n",
       "      <td>73240.0</td>\n",
       "      <td>155.0</td>\n",
       "      <td>129460.0</td>\n",
       "      <td>199845.0</td>\n",
       "      <td>316930.0</td>\n",
       "      <td>250.0</td>\n",
       "      <td>517025.0</td>\n",
       "    </tr>\n",
       "    <tr>\n",
       "      <th>4</th>\n",
       "      <td>2018/19</td>\n",
       "      <td>501300</td>\n",
       "      <td>2165600</td>\n",
       "      <td>2666900</td>\n",
       "      <td>267615</td>\n",
       "      <td>394145</td>\n",
       "      <td>660.0</td>\n",
       "      <td>662420.0</td>\n",
       "      <td>59705.0</td>\n",
       "      <td>75840.0</td>\n",
       "      <td>235.0</td>\n",
       "      <td>135775.0</td>\n",
       "      <td>207915.0</td>\n",
       "      <td>318295.0</td>\n",
       "      <td>430.0</td>\n",
       "      <td>526640.0</td>\n",
       "    </tr>\n",
       "    <tr>\n",
       "      <th>5</th>\n",
       "      <td>2019/20</td>\n",
       "      <td>541600</td>\n",
       "      <td>2246500</td>\n",
       "      <td>2788100</td>\n",
       "      <td>165250</td>\n",
       "      <td>376140</td>\n",
       "      <td>630.0</td>\n",
       "      <td>542025.0</td>\n",
       "      <td>39910.0</td>\n",
       "      <td>76935.0</td>\n",
       "      <td>215.0</td>\n",
       "      <td>117055.0</td>\n",
       "      <td>125350.0</td>\n",
       "      <td>299210.0</td>\n",
       "      <td>420.0</td>\n",
       "      <td>424975.0</td>\n",
       "    </tr>\n",
       "  </tbody>\n",
       "</table>\n",
       "</div>"
      ],
      "text/plain": [
       "      Year  Workforce female  Workforce male  Workforce total  Student female  \\\n",
       "0  2014/15            447300         1927400          2374500          224805   \n",
       "1  2015/16            435600         1982100          2417900          232880   \n",
       "2  2016/17            472300         2037500          2510000          244465   \n",
       "3  2017/18            503900         2050700          2554600          255925   \n",
       "4  2018/19            501300         2165600          2666900          267615   \n",
       "5  2019/20            541600         2246500          2788100          165250   \n",
       "\n",
       "   Student male  Student other  Student total  Postgrad female  Postgrad male  \\\n",
       "0        377180            NaN            NaN              NaN            NaN   \n",
       "1        381690            NaN            NaN              NaN            NaN   \n",
       "2        387030            NaN            NaN              NaN            NaN   \n",
       "3        390165          400.0       646490.0          56070.0        73240.0   \n",
       "4        394145          660.0       662420.0          59705.0        75840.0   \n",
       "5        376140          630.0       542025.0          39910.0        76935.0   \n",
       "\n",
       "   Postgrad other  Postgrad total  Undergrad female  Undergrad male  \\\n",
       "0             NaN             NaN               NaN             NaN   \n",
       "1             NaN             NaN               NaN             NaN   \n",
       "2             NaN             NaN               NaN             NaN   \n",
       "3           155.0        129460.0          199845.0        316930.0   \n",
       "4           235.0        135775.0          207915.0        318295.0   \n",
       "5           215.0        117055.0          125350.0        299210.0   \n",
       "\n",
       "   Undergrad other  Undergrad tota  \n",
       "0              NaN             NaN  \n",
       "1              NaN             NaN  \n",
       "2              NaN             NaN  \n",
       "3            250.0        517025.0  \n",
       "4            430.0        526640.0  \n",
       "5            420.0        424975.0  "
      ]
     },
     "execution_count": 2,
     "metadata": {},
     "output_type": "execute_result"
    }
   ],
   "source": [
    "# import the data sets\n",
    "df = pd.read_csv('Workforce and number of students 2014-2020.csv')\n",
    "\n",
    "df"
   ]
  },
  {
   "cell_type": "code",
   "execution_count": 3,
   "id": "bdfa97df",
   "metadata": {},
   "outputs": [
    {
     "data": {
      "text/html": [
       "<div>\n",
       "<style scoped>\n",
       "    .dataframe tbody tr th:only-of-type {\n",
       "        vertical-align: middle;\n",
       "    }\n",
       "\n",
       "    .dataframe tbody tr th {\n",
       "        vertical-align: top;\n",
       "    }\n",
       "\n",
       "    .dataframe thead th {\n",
       "        text-align: right;\n",
       "    }\n",
       "</style>\n",
       "<table border=\"1\" class=\"dataframe\">\n",
       "  <thead>\n",
       "    <tr style=\"text-align: right;\">\n",
       "      <th></th>\n",
       "      <th>Year</th>\n",
       "      <th>Workforce female</th>\n",
       "      <th>Workforce male</th>\n",
       "      <th>Workforce total</th>\n",
       "      <th>Student female</th>\n",
       "      <th>Student male</th>\n",
       "    </tr>\n",
       "  </thead>\n",
       "  <tbody>\n",
       "    <tr>\n",
       "      <th>0</th>\n",
       "      <td>2014/15</td>\n",
       "      <td>447300</td>\n",
       "      <td>1927400</td>\n",
       "      <td>2374500</td>\n",
       "      <td>224805</td>\n",
       "      <td>377180</td>\n",
       "    </tr>\n",
       "    <tr>\n",
       "      <th>1</th>\n",
       "      <td>2015/16</td>\n",
       "      <td>435600</td>\n",
       "      <td>1982100</td>\n",
       "      <td>2417900</td>\n",
       "      <td>232880</td>\n",
       "      <td>381690</td>\n",
       "    </tr>\n",
       "    <tr>\n",
       "      <th>2</th>\n",
       "      <td>2016/17</td>\n",
       "      <td>472300</td>\n",
       "      <td>2037500</td>\n",
       "      <td>2510000</td>\n",
       "      <td>244465</td>\n",
       "      <td>387030</td>\n",
       "    </tr>\n",
       "    <tr>\n",
       "      <th>3</th>\n",
       "      <td>2017/18</td>\n",
       "      <td>503900</td>\n",
       "      <td>2050700</td>\n",
       "      <td>2554600</td>\n",
       "      <td>255925</td>\n",
       "      <td>390165</td>\n",
       "    </tr>\n",
       "    <tr>\n",
       "      <th>4</th>\n",
       "      <td>2018/19</td>\n",
       "      <td>501300</td>\n",
       "      <td>2165600</td>\n",
       "      <td>2666900</td>\n",
       "      <td>267615</td>\n",
       "      <td>394145</td>\n",
       "    </tr>\n",
       "    <tr>\n",
       "      <th>5</th>\n",
       "      <td>2019/20</td>\n",
       "      <td>541600</td>\n",
       "      <td>2246500</td>\n",
       "      <td>2788100</td>\n",
       "      <td>165250</td>\n",
       "      <td>376140</td>\n",
       "    </tr>\n",
       "  </tbody>\n",
       "</table>\n",
       "</div>"
      ],
      "text/plain": [
       "      Year  Workforce female  Workforce male  Workforce total  Student female  \\\n",
       "0  2014/15            447300         1927400          2374500          224805   \n",
       "1  2015/16            435600         1982100          2417900          232880   \n",
       "2  2016/17            472300         2037500          2510000          244465   \n",
       "3  2017/18            503900         2050700          2554600          255925   \n",
       "4  2018/19            501300         2165600          2666900          267615   \n",
       "5  2019/20            541600         2246500          2788100          165250   \n",
       "\n",
       "   Student male  \n",
       "0        377180  \n",
       "1        381690  \n",
       "2        387030  \n",
       "3        390165  \n",
       "4        394145  \n",
       "5        376140  "
      ]
     },
     "execution_count": 3,
     "metadata": {},
     "output_type": "execute_result"
    }
   ],
   "source": [
    "# drop all the rows with missing values\n",
    "df_1 = df.dropna(axis=1)\n",
    "\n",
    "# check the result\n",
    "df_1"
   ]
  },
  {
   "cell_type": "code",
   "execution_count": 4,
   "id": "0eaed7b8",
   "metadata": {
    "scrolled": true
   },
   "outputs": [
    {
     "name": "stdout",
     "output_type": "stream",
     "text": [
      "<class 'pandas.core.frame.DataFrame'>\n",
      "RangeIndex: 6 entries, 0 to 5\n",
      "Data columns (total 6 columns):\n",
      " #   Column            Non-Null Count  Dtype \n",
      "---  ------            --------------  ----- \n",
      " 0   Year              6 non-null      object\n",
      " 1   Workforce female  6 non-null      int64 \n",
      " 2   Workforce male    6 non-null      int64 \n",
      " 3   Workforce total   6 non-null      int64 \n",
      " 4   Student female    6 non-null      int64 \n",
      " 5   Student male      6 non-null      int64 \n",
      "dtypes: int64(5), object(1)\n",
      "memory usage: 416.0+ bytes\n"
     ]
    }
   ],
   "source": [
    "df_1.info()"
   ]
  },
  {
   "cell_type": "code",
   "execution_count": 5,
   "id": "ade04bae",
   "metadata": {},
   "outputs": [
    {
     "data": {
      "text/html": [
       "<div>\n",
       "<style scoped>\n",
       "    .dataframe tbody tr th:only-of-type {\n",
       "        vertical-align: middle;\n",
       "    }\n",
       "\n",
       "    .dataframe tbody tr th {\n",
       "        vertical-align: top;\n",
       "    }\n",
       "\n",
       "    .dataframe thead th {\n",
       "        text-align: right;\n",
       "    }\n",
       "</style>\n",
       "<table border=\"1\" class=\"dataframe\">\n",
       "  <thead>\n",
       "    <tr style=\"text-align: right;\">\n",
       "      <th></th>\n",
       "      <th>Workforce female</th>\n",
       "      <th>Workforce male</th>\n",
       "      <th>Workforce total</th>\n",
       "      <th>Student female</th>\n",
       "      <th>Student male</th>\n",
       "    </tr>\n",
       "  </thead>\n",
       "  <tbody>\n",
       "    <tr>\n",
       "      <th>count</th>\n",
       "      <td>6.000000</td>\n",
       "      <td>6.000000e+00</td>\n",
       "      <td>6.000000e+00</td>\n",
       "      <td>6.000000</td>\n",
       "      <td>6.000000</td>\n",
       "    </tr>\n",
       "    <tr>\n",
       "      <th>mean</th>\n",
       "      <td>483666.666667</td>\n",
       "      <td>2.068300e+06</td>\n",
       "      <td>2.552000e+06</td>\n",
       "      <td>231823.333333</td>\n",
       "      <td>384391.666667</td>\n",
       "    </tr>\n",
       "    <tr>\n",
       "      <th>std</th>\n",
       "      <td>39594.780801</td>\n",
       "      <td>1.181221e+05</td>\n",
       "      <td>1.550516e+05</td>\n",
       "      <td>36066.959210</td>\n",
       "      <td>7250.059770</td>\n",
       "    </tr>\n",
       "    <tr>\n",
       "      <th>min</th>\n",
       "      <td>435600.000000</td>\n",
       "      <td>1.927400e+06</td>\n",
       "      <td>2.374500e+06</td>\n",
       "      <td>165250.000000</td>\n",
       "      <td>376140.000000</td>\n",
       "    </tr>\n",
       "    <tr>\n",
       "      <th>25%</th>\n",
       "      <td>453550.000000</td>\n",
       "      <td>1.995950e+06</td>\n",
       "      <td>2.440925e+06</td>\n",
       "      <td>226823.750000</td>\n",
       "      <td>378307.500000</td>\n",
       "    </tr>\n",
       "    <tr>\n",
       "      <th>50%</th>\n",
       "      <td>486800.000000</td>\n",
       "      <td>2.044100e+06</td>\n",
       "      <td>2.532300e+06</td>\n",
       "      <td>238672.500000</td>\n",
       "      <td>384360.000000</td>\n",
       "    </tr>\n",
       "    <tr>\n",
       "      <th>75%</th>\n",
       "      <td>503250.000000</td>\n",
       "      <td>2.136875e+06</td>\n",
       "      <td>2.638825e+06</td>\n",
       "      <td>253060.000000</td>\n",
       "      <td>389381.250000</td>\n",
       "    </tr>\n",
       "    <tr>\n",
       "      <th>max</th>\n",
       "      <td>541600.000000</td>\n",
       "      <td>2.246500e+06</td>\n",
       "      <td>2.788100e+06</td>\n",
       "      <td>267615.000000</td>\n",
       "      <td>394145.000000</td>\n",
       "    </tr>\n",
       "  </tbody>\n",
       "</table>\n",
       "</div>"
      ],
      "text/plain": [
       "       Workforce female  Workforce male  Workforce total  Student female  \\\n",
       "count          6.000000    6.000000e+00     6.000000e+00        6.000000   \n",
       "mean      483666.666667    2.068300e+06     2.552000e+06   231823.333333   \n",
       "std        39594.780801    1.181221e+05     1.550516e+05    36066.959210   \n",
       "min       435600.000000    1.927400e+06     2.374500e+06   165250.000000   \n",
       "25%       453550.000000    1.995950e+06     2.440925e+06   226823.750000   \n",
       "50%       486800.000000    2.044100e+06     2.532300e+06   238672.500000   \n",
       "75%       503250.000000    2.136875e+06     2.638825e+06   253060.000000   \n",
       "max       541600.000000    2.246500e+06     2.788100e+06   267615.000000   \n",
       "\n",
       "        Student male  \n",
       "count       6.000000  \n",
       "mean   384391.666667  \n",
       "std      7250.059770  \n",
       "min    376140.000000  \n",
       "25%    378307.500000  \n",
       "50%    384360.000000  \n",
       "75%    389381.250000  \n",
       "max    394145.000000  "
      ]
     },
     "execution_count": 5,
     "metadata": {},
     "output_type": "execute_result"
    }
   ],
   "source": [
    "df_1.describe()"
   ]
  },
  {
   "cell_type": "code",
   "execution_count": null,
   "id": "2ff9e13c",
   "metadata": {},
   "outputs": [],
   "source": []
  },
  {
   "cell_type": "markdown",
   "id": "e961924e",
   "metadata": {},
   "source": [
    "### 2. Plot the correlation"
   ]
  },
  {
   "cell_type": "code",
   "execution_count": 6,
   "id": "c31a47a3",
   "metadata": {},
   "outputs": [
    {
     "data": {
      "text/plain": [
       "[<matplotlib.lines.Line2D at 0x1887ded4e20>]"
      ]
     },
     "execution_count": 6,
     "metadata": {},
     "output_type": "execute_result"
    },
    {
     "data": {
      "image/png": "[encoded data removed]",
      "text/plain": [
       "<Figure size 432x288 with 1 Axes>"
      ]
     },
     "metadata": {
      "needs_background": "light"
     },
     "output_type": "display_data"
    }
   ],
   "source": [
    "# define the variables\n",
    "y = df_1['Student female']\n",
    "x = df_1['Workforce female']\n",
    "\n",
    "# create a basic scatterplot\n",
    "plt.plot(x, y, 'o')  "
   ]
  },
  {
   "cell_type": "code",
   "execution_count": 7,
   "id": "9ce1bdfd",
   "metadata": {},
   "outputs": [
    {
     "data": {
      "text/plain": [
       "[<matplotlib.lines.Line2D at 0x188010975e0>]"
      ]
     },
     "execution_count": 7,
     "metadata": {},
     "output_type": "execute_result"
    },
    {
     "data": {
      "image/png": "[encoded data removed]",
      "text/plain": [
       "<Figure size 432x288 with 1 Axes>"
      ]
     },
     "metadata": {
      "needs_background": "light"
     },
     "output_type": "display_data"
    }
   ],
   "source": [
    "# define the variables\n",
    "y = df_1['Student male']\n",
    "x = df_1['Workforce male']\n",
    "\n",
    "# create a basic scatterplot\n",
    "plt.plot(x, y, 'o')"
   ]
  },
  {
   "cell_type": "markdown",
   "id": "7b06fe10",
   "metadata": {},
   "source": [
    "#### The change in subject codes in academic year 2019/20. There would be bias in time series analysis.\n",
    "**Solution: exclude data from academic year 2019/20.**"
   ]
  },
  {
   "cell_type": "code",
   "execution_count": 8,
   "id": "2b7691e8",
   "metadata": {},
   "outputs": [
    {
     "data": {
      "text/html": [
       "<div>\n",
       "<style scoped>\n",
       "    .dataframe tbody tr th:only-of-type {\n",
       "        vertical-align: middle;\n",
       "    }\n",
       "\n",
       "    .dataframe tbody tr th {\n",
       "        vertical-align: top;\n",
       "    }\n",
       "\n",
       "    .dataframe thead th {\n",
       "        text-align: right;\n",
       "    }\n",
       "</style>\n",
       "<table border=\"1\" class=\"dataframe\">\n",
       "  <thead>\n",
       "    <tr style=\"text-align: right;\">\n",
       "      <th></th>\n",
       "      <th>Year</th>\n",
       "      <th>Workforce female</th>\n",
       "      <th>Workforce male</th>\n",
       "      <th>Workforce total</th>\n",
       "      <th>Student female</th>\n",
       "      <th>Student male</th>\n",
       "    </tr>\n",
       "  </thead>\n",
       "  <tbody>\n",
       "    <tr>\n",
       "      <th>0</th>\n",
       "      <td>2014/15</td>\n",
       "      <td>447300</td>\n",
       "      <td>1927400</td>\n",
       "      <td>2374500</td>\n",
       "      <td>224805</td>\n",
       "      <td>377180</td>\n",
       "    </tr>\n",
       "    <tr>\n",
       "      <th>1</th>\n",
       "      <td>2015/16</td>\n",
       "      <td>435600</td>\n",
       "      <td>1982100</td>\n",
       "      <td>2417900</td>\n",
       "      <td>232880</td>\n",
       "      <td>381690</td>\n",
       "    </tr>\n",
       "    <tr>\n",
       "      <th>2</th>\n",
       "      <td>2016/17</td>\n",
       "      <td>472300</td>\n",
       "      <td>2037500</td>\n",
       "      <td>2510000</td>\n",
       "      <td>244465</td>\n",
       "      <td>387030</td>\n",
       "    </tr>\n",
       "    <tr>\n",
       "      <th>3</th>\n",
       "      <td>2017/18</td>\n",
       "      <td>503900</td>\n",
       "      <td>2050700</td>\n",
       "      <td>2554600</td>\n",
       "      <td>255925</td>\n",
       "      <td>390165</td>\n",
       "    </tr>\n",
       "    <tr>\n",
       "      <th>4</th>\n",
       "      <td>2018/19</td>\n",
       "      <td>501300</td>\n",
       "      <td>2165600</td>\n",
       "      <td>2666900</td>\n",
       "      <td>267615</td>\n",
       "      <td>394145</td>\n",
       "    </tr>\n",
       "  </tbody>\n",
       "</table>\n",
       "</div>"
      ],
      "text/plain": [
       "      Year  Workforce female  Workforce male  Workforce total  Student female  \\\n",
       "0  2014/15            447300         1927400          2374500          224805   \n",
       "1  2015/16            435600         1982100          2417900          232880   \n",
       "2  2016/17            472300         2037500          2510000          244465   \n",
       "3  2017/18            503900         2050700          2554600          255925   \n",
       "4  2018/19            501300         2165600          2666900          267615   \n",
       "\n",
       "   Student male  \n",
       "0        377180  \n",
       "1        381690  \n",
       "2        387030  \n",
       "3        390165  \n",
       "4        394145  "
      ]
     },
     "execution_count": 8,
     "metadata": {},
     "output_type": "execute_result"
    }
   ],
   "source": [
    "# shortlist the rows to exclude 2019/20\n",
    "df_2 = df_1.iloc[0:5,  : ]\n",
    "\n",
    "# check the result\n",
    "df_2"
   ]
  },
  {
   "cell_type": "markdown",
   "id": "22b65fe7",
   "metadata": {},
   "source": [
    "### 3. The simple linear regression model"
   ]
  },
  {
   "cell_type": "markdown",
   "id": "640813f7",
   "metadata": {},
   "source": [
    "**3.1 Females**"
   ]
  },
  {
   "cell_type": "code",
   "execution_count": 37,
   "id": "f324d33f",
   "metadata": {},
   "outputs": [],
   "source": [
    "# choose the variables\n",
    "x = df_2[\"Workforce female\"].values.reshape(-1, 1) \n",
    "y = df_2[\"Student female\"].values"
   ]
  },
  {
   "cell_type": "code",
   "execution_count": 38,
   "id": "b5e846eb",
   "metadata": {},
   "outputs": [],
   "source": [
    "# run linear regression\n",
    "lr = LinearRegression()"
   ]
  },
  {
   "cell_type": "code",
   "execution_count": 39,
   "id": "543db79b",
   "metadata": {},
   "outputs": [
    {
     "data": {
      "text/plain": [
       "LinearRegression()"
      ]
     },
     "execution_count": 39,
     "metadata": {},
     "output_type": "execute_result"
    }
   ],
   "source": [
    "# fit the model on the training data\n",
    "lr.fit(x, y)"
   ]
  },
  {
   "cell_type": "code",
   "execution_count": 40,
   "id": "ba7d5b91",
   "metadata": {},
   "outputs": [],
   "source": [
    "# predict is used for predicting on the x_test\n",
    "y_pred = lr.predict(x)"
   ]
  },
  {
   "cell_type": "code",
   "execution_count": 41,
   "id": "4dddd882",
   "metadata": {},
   "outputs": [
    {
     "data": {
      "image/png": "[encoded data removed]",
      "text/plain": [
       "<Figure size 576x432 with 1 Axes>"
      ]
     },
     "metadata": {
      "needs_background": "light"
     },
     "output_type": "display_data"
    }
   ],
   "source": [
    "# visualization of the regression model\n",
    "\n",
    "# change the size of the plot\n",
    "plt.figure(figsize=(8,6))\n",
    "\n",
    "# scatter plot with the best-fit line\n",
    "plt.scatter(x, y, color = \"red\")\n",
    "plt.plot(x, lr.predict(x), color = \"black\")\n",
    "\n",
    "# assign title and labels of axes\n",
    "plt.title(\"The correlation of representation in workforce and higher education in 2014-2019 (Female)\")\n",
    "plt.xlabel(\"Number of female in the workforce\")\n",
    "plt.ylabel(\"Number of female students\")\n",
    "\n",
    "# prevent scientific notation of the axes\n",
    "plt.ticklabel_format(style='plain')\n",
    "\n",
    "plt.show()"
   ]
  },
  {
   "cell_type": "code",
   "execution_count": 42,
   "id": "ed72208d",
   "metadata": {},
   "outputs": [
    {
     "name": "stdout",
     "output_type": "stream",
     "text": [
      "0.8422176664828146\n"
     ]
    }
   ],
   "source": [
    "# print R-squared value of the model\n",
    "print(lr.score(x, y)) "
   ]
  },
  {
   "cell_type": "code",
   "execution_count": 43,
   "id": "9c2fb486",
   "metadata": {},
   "outputs": [
    {
     "name": "stdout",
     "output_type": "stream",
     "text": [
      "Intercept value:  3487.875088423316\n",
      "Coefficient value:  [0.51188384]\n"
     ]
    }
   ],
   "source": [
    "# Print the intercept value.\n",
    "print(\"Intercept value: \", lr.intercept_) \n",
    "# Print the coefficient value.\n",
    "print(\"Coefficient value: \", lr.coef_)"
   ]
  },
  {
   "cell_type": "markdown",
   "id": "bc8c8e76",
   "metadata": {},
   "source": [
    "**3.2 Males**"
   ]
  },
  {
   "cell_type": "code",
   "execution_count": 29,
   "id": "59c79c82",
   "metadata": {},
   "outputs": [],
   "source": [
    "# choose your variables\n",
    "x_m = df_2[\"Workforce male\"].values.reshape(-1, 1) \n",
    "y_m = df_2[\"Student male\"].values"
   ]
  },
  {
   "cell_type": "code",
   "execution_count": 30,
   "id": "1ed362a5",
   "metadata": {},
   "outputs": [],
   "source": [
    "# run linear regression\n",
    "lr = LinearRegression()"
   ]
  },
  {
   "cell_type": "code",
   "execution_count": 31,
   "id": "87190308",
   "metadata": {},
   "outputs": [
    {
     "data": {
      "text/plain": [
       "LinearRegression()"
      ]
     },
     "execution_count": 31,
     "metadata": {},
     "output_type": "execute_result"
    }
   ],
   "source": [
    "# fit the model on the training data\n",
    "lr.fit(x_m, y_m)"
   ]
  },
  {
   "cell_type": "code",
   "execution_count": 32,
   "id": "a73bb8c3",
   "metadata": {},
   "outputs": [],
   "source": [
    "# predict is used for predicting on the x_test\n",
    "y_pred = lr.predict(x_m)"
   ]
  },
  {
   "cell_type": "code",
   "execution_count": 33,
   "id": "e3b5d145",
   "metadata": {
    "scrolled": false
   },
   "outputs": [
    {
     "data": {
      "image/png": "[encoded data removed]",
      "text/plain": [
       "<Figure size 576x432 with 1 Axes>"
      ]
     },
     "metadata": {
      "needs_background": "light"
     },
     "output_type": "display_data"
    }
   ],
   "source": [
    "# visualization of the regression model\n",
    "\n",
    "# change the size of the plot\n",
    "plt.figure(figsize=(8,6))\n",
    "\n",
    "# scatter plot with the best-fit line\n",
    "plt.scatter(x_m, y_m, color = \"blue\")\n",
    "plt.plot(x_m, lr.predict(x_m), color = \"black\")\n",
    "\n",
    "# assign title and labels of axes\n",
    "plt.title(\"The correlation of representation in workforce and higher education in 2014-2019 (Male)\")\n",
    "plt.xlabel(\"Number of male in the workforce\")\n",
    "plt.ylabel(\"Number of male students\")\n",
    "\n",
    "# prevent scientific notation of the axis\n",
    "plt.ticklabel_format(style='plain')\n",
    "\n",
    "plt.show()"
   ]
  },
  {
   "cell_type": "code",
   "execution_count": 34,
   "id": "668f7ad7",
   "metadata": {},
   "outputs": [
    {
     "name": "stdout",
     "output_type": "stream",
     "text": [
      "0.9300597404029031\n"
     ]
    }
   ],
   "source": [
    "# print R-squared value of the model\n",
    "print(lr.score(x_m, y_m)) "
   ]
  },
  {
   "cell_type": "code",
   "execution_count": 35,
   "id": "0672fd68",
   "metadata": {
    "scrolled": true
   },
   "outputs": [
    {
     "name": "stdout",
     "output_type": "stream",
     "text": [
      "Intercept value:  237773.47077404897\n",
      "Coefficient value:  [0.0729431]\n"
     ]
    }
   ],
   "source": [
    "# Print the intercept value.\n",
    "print(\"Intercept value: \", lr.intercept_) \n",
    "# Print the coefficient value.\n",
    "print(\"Coefficient value: \", lr.coef_)"
   ]
  }
 ],
 "metadata": {
  "kernelspec": {
   "display_name": "Python 3 (ipykernel)",
   "language": "python",
   "name": "python3"
  },
  "language_info": {
   "codemirror_mode": {
    "name": "ipython",
    "version": 3
   },
   "file_extension": ".py",
   "mimetype": "text/x-python",
   "name": "python",
   "nbconvert_exporter": "python",
   "pygments_lexer": "ipython3",
   "version": "3.9.12"
  }
 },
 "nbformat": 4,
 "nbformat_minor": 5
}
